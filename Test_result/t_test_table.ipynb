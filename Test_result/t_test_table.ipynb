{
 "cells": [
  {
   "cell_type": "code",
   "execution_count": 4,
   "id": "ed679b55-7929-48d8-833b-6665dfe515d4",
   "metadata": {},
   "outputs": [],
   "source": [
    "import pandas as pd\n",
    "import numpy as np\n",
    "import scipy.stats as stats"
   ]
  },
  {
   "cell_type": "code",
   "execution_count": 5,
   "id": "6bb96f87-2853-4306-acfc-dc85010a2b2d",
   "metadata": {},
   "outputs": [],
   "source": [
    "#read data from csv file\n",
    "filename = \"ans_responses.csv\"\n",
    "ans_df = pd.read_csv(filename)\n",
    "\n",
    "filename = \"math_ability_responses.csv\"\n",
    "maths_df = pd.read_csv(filename)\n",
    "\n",
    "filename = \"memory_test_responses.csv\"\n",
    "memory_df = pd.read_csv(filename)\n",
    "\n",
    "filename = \"spatial_recognition_responses.csv\"\n",
    "sr_df = pd.read_csv(filename)"
   ]
  },
  {
   "cell_type": "code",
   "execution_count": 9,
   "id": "a99cadb5-1328-472e-8860-a49d86c94a6b",
   "metadata": {},
   "outputs": [],
   "source": [
    "#ans, maths, memory, spatial reasoning\n",
    "#mean male: \n",
    "#mean female\n",
    "#diff in score\n",
    "#standard error\n",
    "#p-value"
   ]
  },
  {
   "cell_type": "code",
   "execution_count": 16,
   "id": "ba79b0b6-a281-4920-9a46-b3f3d15408bc",
   "metadata": {},
   "outputs": [
    {
     "name": "stdout",
     "output_type": "stream",
     "text": [
      "ANS male mean: 38.63636363636363\n",
      "ANS female mean: 38.5\n",
      "ANS diff in mean: 0.13636363636363313\n",
      "Standard Error (Male): 0.6504925025453934\n",
      "Standard Error (Female): 1.1081615306542536\n",
      "T-statistic: 0.09877212837918563\n",
      "P-value: 0.9221750055500098\n"
     ]
    }
   ],
   "source": [
    "#get males and females score from table respectively\n",
    "ans_male_scores = ans_df[ans_df['gender']=='M']['score']\n",
    "ans_female_scores = ans_df[ans_df['gender']=='F']['score']\n",
    "\n",
    "#find mean\n",
    "ans_m_mean = ans_male_scores.mean()\n",
    "ans_f_mean = ans_female_scores.mean()\n",
    "print(f\"ANS male mean: {ans_m_mean}\")\n",
    "print(f\"ANS female mean: {ans_f_mean}\")\n",
    "\n",
    "#find difference in mean\n",
    "ans_diff_in_mean = ans_m_mean - ans_f_mean\n",
    "print(f\"ANS diff in mean: {ans_diff_in_mean}\")\n",
    "#difference in mean = 0.136. Mean male total_score is 0.136 greater than mean male total_score\n",
    "\n",
    "#standard_error of both gender \n",
    "m_std_error = stats.sem(ans_male_scores)\n",
    "f_std_error = stats.sem(ans_female_scores)\n",
    "print(f\"Standard Error (Male): {m_std_error}\")\n",
    "print(f\"Standard Error (Female): {f_std_error}\")\n",
    "\n",
    "#calculate significant difference using t-test\n",
    "t_statistic, p_value = stats.ttest_ind(ans_male_scores, ans_female_scores)\n",
    "print(f\"T-statistic: {t_statistic}\")\n",
    "print(f\"P-value: {p_value}\")\n",
    "#T statistic value=0.0988\n",
    "#p-value=0.922"
   ]
  },
  {
   "cell_type": "code",
   "execution_count": 18,
   "id": "80d061d1-8e4f-4743-adf9-9ae21268f426",
   "metadata": {},
   "outputs": [
    {
     "name": "stdout",
     "output_type": "stream",
     "text": [
      "Maths male mean: 19.11111111111111\n",
      "Maths female mean: 18.142857142857142\n",
      "0.9682539682539684\n",
      "Standard Error (Male): 0.30932024237944566\n",
      "Standard Error (Female): 0.7377111135633174\n",
      "T-statistic: 1.318102149461144\n",
      "P-value: 0.20862977069108615\n"
     ]
    }
   ],
   "source": [
    "#male and female score pulled out from data\n",
    "maths_male_scores = maths_df[maths_df['gender'] == 'male']['score']\n",
    "maths_female_scores = maths_df[maths_df['gender'] == 'female']['score']\n",
    "\n",
    "#find mean \n",
    "maths_m_mean = maths_male_scores.mean()\n",
    "maths_f_mean = maths_female_scores.mean()\n",
    "print(f\"Maths male mean: {maths_m_mean}\")\n",
    "print(f\"Maths female mean: {maths_f_mean}\")\n",
    "\n",
    "#find difference in mean\n",
    "maths_diff_mean = maths_m_mean - maths_f_mean\n",
    "print(maths_diff_mean)\n",
    "#mean score of male is 0.968 points greater than female \n",
    "#0.968 difference in score \n",
    "\n",
    "#standard_error of both gender \n",
    "m_std_error = stats.sem(maths_male_scores)\n",
    "f_std_error = stats.sem(maths_female_scores)\n",
    "print(f\"Standard Error (Male): {m_std_error}\")\n",
    "print(f\"Standard Error (Female): {f_std_error}\")\n",
    "\n",
    "#calculate significant difference using t-test\n",
    "t_statistic, p_value = stats.ttest_ind(maths_male_scores, maths_female_scores)\n",
    "print(f\"T-statistic: {t_statistic}\")\n",
    "print(f\"P-value: {p_value}\")"
   ]
  },
  {
   "cell_type": "code",
   "execution_count": 19,
   "id": "b8fcb681-b0de-4608-a1d1-cc5658899518",
   "metadata": {},
   "outputs": [
    {
     "name": "stdout",
     "output_type": "stream",
     "text": [
      "Memory male mean: 7.125\n",
      "Memory female mean: 9.083333333333334\n",
      "-1.958333333333334\n",
      "Standard Error (Male): 1.059607407081914\n",
      "Standard Error (Female): 0.7225620800982845\n",
      "T-statistic: -1.5856214504505777\n",
      "P-value: 0.13023621804891994\n"
     ]
    }
   ],
   "source": [
    "#get males and females score from table respectively\n",
    "memory_male_scores = memory_df[memory_df['gender']=='Male']['total_score']\n",
    "memory_female_scores = memory_df[memory_df['gender']=='Female']['total_score']\n",
    "\n",
    "#find mean\n",
    "memory_m_mean = memory_male_scores.mean()\n",
    "memory_f_mean = memory_female_scores.mean()\n",
    "print(f\"Memory male mean: {memory_m_mean}\")\n",
    "print(f\"Memory female mean: {memory_f_mean}\")\n",
    "\n",
    "#find difference in mean\n",
    "memory_diff_in_mean = memory_m_mean - memory_f_mean\n",
    "print(memory_diff_in_mean)\n",
    "#difference in mean = -1.96. Mean female total_score is 1.69 greater than mean male total_score\n",
    "\n",
    "#standard_error of both gender \n",
    "m_std_error = stats.sem(memory_male_scores)\n",
    "f_std_error = stats.sem(memory_female_scores)\n",
    "print(f\"Standard Error (Male): {m_std_error}\")\n",
    "print(f\"Standard Error (Female): {f_std_error}\")\n",
    "\n",
    "#calculate significant difference using t-test\n",
    "t_statistic, p_value = stats.ttest_ind(memory_male_scores, memory_female_scores)\n",
    "print(f\"T-statistic: {t_statistic}\")\n",
    "print(f\"P-value: {p_value}\")\n",
    "#p-value = 0.13"
   ]
  },
  {
   "cell_type": "code",
   "execution_count": 23,
   "id": "54cd9718-63f5-4293-abaf-2eb561ef9bca",
   "metadata": {},
   "outputs": [
    {
     "name": "stdout",
     "output_type": "stream",
     "text": [
      "Spacial male mean: 4.444444444444445\n",
      "Spacial female mean: 3.75\n",
      "0.6944444444444446\n",
      "Standard Error (Male): 0.6260793149769247\n",
      "Standard Error (Female): 0.5261042808091512\n",
      "T-statistic: 0.8370931948220585\n",
      "P-value: 0.4156783089979027\n"
     ]
    }
   ],
   "source": [
    "#male and female score pulled out from data\n",
    "male_scores = sr_df[sr_df['sex'] == 'male']['score']\n",
    "female_scores = sr_df[sr_df['sex'] == 'female']['score']\n",
    "\n",
    "#find mean \n",
    "m_mean = male_scores.mean()\n",
    "f_mean = female_scores.mean()\n",
    "print(f\"Spacial male mean: {m_mean}\")\n",
    "print(f\"Spacial female mean: {f_mean}\")\n",
    "\n",
    "#find difference in mean\n",
    "diff_mean = m_mean - f_mean\n",
    "print(diff_mean)\n",
    "#mean score of male is 0.7778 points greater than female \n",
    "#0.7778 difference in score \n",
    "\n",
    "#standard_error of both gender \n",
    "m_std_error = stats.sem(male_scores)\n",
    "f_std_error = stats.sem(female_scores)\n",
    "print(f\"Standard Error (Male): {m_std_error}\")\n",
    "print(f\"Standard Error (Female): {f_std_error}\")\n",
    "\n",
    "#calculate significant difference using t-test\n",
    "t_statistic, p_value = stats.ttest_ind(male_scores, female_scores)\n",
    "print(f\"T-statistic: {t_statistic}\")\n",
    "print(f\"P-value: {p_value}\")"
   ]
  },
  {
   "cell_type": "code",
   "execution_count": 29,
   "id": "90d60d6d-16c1-4d52-8b00-32431681dfb0",
   "metadata": {},
   "outputs": [
    {
     "name": "stdout",
     "output_type": "stream",
     "text": [
      "                   Male mean score  SER (M Mean Score)  Female mean score  \\\n",
      "ANS                          38.60               0.650              38.50   \n",
      "Math Ability                 19.10               0.309              18.10   \n",
      "Memory Test                   7.13               1.060               9.08   \n",
      "Spacial Reasoning             4.44               0.626               3.75   \n",
      "\n",
      "                   SER (F Mean Score)  Diff in score  p-value  \n",
      "ANS                             1.110          0.136    0.922  \n",
      "Math Ability                    0.738          0.968    0.209  \n",
      "Memory Test                     0.723          1.960    0.130  \n",
      "Spacial Reasoning               0.526          0.694    0.416  \n"
     ]
    }
   ],
   "source": [
    "data = {'Male mean score': [38.6, 19.1, 7.13, 4.44],\n",
    "        'SER (M Mean Score)': [0.650, 0.309, 1.06, 0.626],\n",
    "        'Female mean score': [38.5, 18.1, 9.08, 3.75],\n",
    "        'SER (F Mean Score)': [1.11, 0.738, 0.723, 0.526],\n",
    "        'Diff in score': [0.136, 0.968, 1.96, 0.694],\n",
    "        'p-value': [0.922, 0.209, 0.130, 0.416]}\n",
    "\n",
    "df = pd.DataFrame(data)\n",
    "\n",
    "# Change the titles of the rows\n",
    "new_row_titles = ['ANS', 'Math Ability', 'Memory Test', 'Spacial Reasoning']\n",
    "df.index = new_row_titles\n",
    "\n",
    "# Display the DataFrame\n",
    "df"
   ]
  },
  {
   "cell_type": "code",
   "execution_count": null,
   "id": "b203719f-a3b6-4d35-aacc-063af63a472c",
   "metadata": {},
   "outputs": [],
   "source": []
  }
 ],
 "metadata": {
  "kernelspec": {
   "display_name": "Python 3 (ipykernel)",
   "language": "python",
   "name": "python3"
  },
  "language_info": {
   "codemirror_mode": {
    "name": "ipython",
    "version": 3
   },
   "file_extension": ".py",
   "mimetype": "text/x-python",
   "name": "python",
   "nbconvert_exporter": "python",
   "pygments_lexer": "ipython3",
   "version": "3.10.10"
  }
 },
 "nbformat": 4,
 "nbformat_minor": 5
}
