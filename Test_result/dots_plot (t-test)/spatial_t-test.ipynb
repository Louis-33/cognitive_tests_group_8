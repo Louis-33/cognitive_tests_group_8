{
 "cells": [
  {
   "cell_type": "code",
   "execution_count": 1,
   "id": "e9291b1d-374d-473d-bd35-f14fa5115773",
   "metadata": {},
   "outputs": [],
   "source": [
    "import pandas as pd\n",
    "import numpy as np\n",
    "import matplotlib.pyplot as plt\n",
    "import scipy.stats as stats"
   ]
  },
  {
   "cell_type": "code",
   "execution_count": 2,
   "id": "14f96e07-e63d-4b61-969b-ce2fc16953ba",
   "metadata": {},
   "outputs": [],
   "source": [
    "#null hypothesis \n",
    "#there is no significant difference in the cognitive ability between genders "
   ]
  },
  {
   "cell_type": "code",
   "execution_count": 3,
   "id": "359d412e-ce52-403c-9617-154445bbd53b",
   "metadata": {},
   "outputs": [
    {
     "name": "stdout",
     "output_type": "stream",
     "text": [
      "0.9682539682539684\n"
     ]
    },
    {
     "data": {
      "text/plain": [
       "0.20862977069108615"
      ]
     },
     "execution_count": 3,
     "metadata": {},
     "output_type": "execute_result"
    }
   ],
   "source": [
    "#calculate pvalue for t-test (math ability) \n",
    "#read data from csv file \n",
    "filename = \"spatial_recognition_responses.csv\"\n",
    "sr_df = pd.read_csv(filename)\n",
    "\n",
    "#drop the items that are not needed for the calculation \n",
    "sr_df = sr_df.drop( [ 'Timestamp', 'name',  'age', 'total_time'], axis='columns' )\n",
    "\n",
    "#male and female score pulled out from data\n",
    "male_scores = sr_df[sr_df['gender'] == 'male']['score']\n",
    "female_scores = sr_df[sr_df['gender'] == 'female']['score']\n",
    "\n",
    "#find mean \n",
    "m_mean = male_scores.mean()\n",
    "f_mean = female_scores.mean()\n",
    "\n",
    "#find difference in mean\n",
    "diff_mean = m_mean - f_mean\n",
    "print(diff_mean)\n",
    "#mean score of male is 0.968 points greater than female \n",
    "#0.968 difference in score \n",
    "\n",
    "#calculate significant difference using t-test\n",
    "result_sr = stats.ttest_ind(male_scores, female_scores)\n",
    "result_sr.pvalue"
   ]
  },
  {
   "cell_type": "code",
   "execution_count": 4,
   "id": "3b843bdf-59d7-4a41-8524-45129fde21d0",
   "metadata": {},
   "outputs": [],
   "source": [
    "###intepreting the t-test p-value -> math ability <- ### \n",
    "#p-value = 0.2086\n",
    "\n",
    "# If p-value ≤ alpha:\n",
    "# Reject the null hypothesis.\n",
    "# Conclude that there is evidence to suggest a significant effect or difference.\n",
    "\n",
    "# If p-value > alpha:\n",
    "# Fail to reject the null hypothesis.\n",
    "# Conclude that there is not enough evidence to suggest a significant effect or difference.\n",
    "\n",
    "#alpha chosen = 0.05 (0.5%) \n",
    "#since p-value > 0.05\n",
    "#null hypothesis can be accepted\n",
    "#meaning that there is not enough evidence to suggest a significant effect or difference in the math ability of male and female."
   ]
  },
  {
   "cell_type": "code",
   "execution_count": 5,
   "id": "fe7a635d-fc09-4f71-8c39-7fecf78d55d8",
   "metadata": {},
   "outputs": [],
   "source": [
    "#displaying results \n",
    "#sr_df.head()"
   ]
  },
  {
   "cell_type": "code",
   "execution_count": 7,
   "id": "8f73fdea-7749-4991-a749-aaada7165f79",
   "metadata": {},
   "outputs": [
    {
     "data": {
      "image/png": "[encoded data removed]",
      "text/plain": [
       "<Figure size 640x480 with 1 Axes>"
      ]
     },
     "metadata": {},
     "output_type": "display_data"
    }
   ],
   "source": [
    "#plot dot graph \n",
    "\n",
    "fig = plt.figure()\n",
    "ax = fig.add_subplot()\n",
    "\n",
    "ax.plot(sr_df['gender'],sr_df['score'],'.')\n",
    "#x-axis limits for 2 categories \n",
    "#range from 0 to 1 \n",
    "#adjust for nicer spacing \n",
    "ax.set_xlim(-1,2) \n",
    "\n",
    "#score categorised by gender\n",
    "m_df = male_scores \n",
    "f_df = female_scores\n",
    "\n",
    "#mean \n",
    "m_mean = m_df.mean()\n",
    "f_mean = f_df.mean()\n",
    "\n",
    "#standard_error of both gender \n",
    "m_std_error = stats.sem(m_df)\n",
    "f_std_error = stats.sem(f_df)\n",
    "\n",
    "#draw the mean with error bars \n",
    "ax.errorbar('male', m_mean, yerr=m_std_error, marker='_', color='black')\n",
    "ax.errorbar('female', f_mean, yerr=f_std_error, marker='_', color='black')\n",
    "\n",
    "ax.set_title(\"Math ability score of males vs females\")\n",
    "\n",
    "plt.show()"
   ]
  }
 ],
 "metadata": {
  "kernelspec": {
   "display_name": "Python 3 (ipykernel)",
   "language": "python",
   "name": "python3"
  },
  "language_info": {
   "codemirror_mode": {
    "name": "ipython",
    "version": 3
   },
   "file_extension": ".py",
   "mimetype": "text/x-python",
   "name": "python",
   "nbconvert_exporter": "python",
   "pygments_lexer": "ipython3",
   "version": "3.10.10"
  }
 },
 "nbformat": 4,
 "nbformat_minor": 5
}
