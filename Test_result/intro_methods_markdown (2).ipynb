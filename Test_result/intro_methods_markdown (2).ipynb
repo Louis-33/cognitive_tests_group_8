{
 "cells": [
  {
   "cell_type": "markdown",
   "id": "b435c48d-ffba-4bf8-abf0-b23dd66e0e83",
   "metadata": {},
   "source": [
    "<div id=\"toggle_code\">...</div>\n",
    "\n",
    "<script src=\"https://ajax.googleapis.com/ajax/libs/jquery/3.5.1/jquery.min.js\"></script>\n",
    "\n",
    "<script src=\"https://cdn.jsdelivr.net/gh/philipwlewis/jupyterlab-toc-toggle@1.0/jlab-toc-toggle.js\"></script>\n",
    "\n",
    "<style>\n",
    "\n",
    ".jlab-table td {\n",
    "\n",
    "border: 1px solid black !important;\n",
    "\n",
    "text-align: center !important;\n",
    "\n",
    "background: white !important;\n",
    "\n",
    "}\n",
    "\n",
    ".jlab-table table {\n",
    "\n",
    "background: white !important;\n",
    "\n",
    "margin: 1em auto 1em auto !important;\n",
    "\n",
    "text-align: center !important;\n",
    "\n",
    "border-collapse: collapse !important;\n",
    "\n",
    "border: 1px solid black !important;\n",
    "\n",
    "}\n",
    "\n",
    ".jlab-table th {\n",
    "\n",
    "border: 1px solid black !important;\n",
    "\n",
    "text-align: center !important;\n",
    "\n",
    "background: aliceblue !important;\n",
    "\n",
    "}\n",
    "\n",
    "</style>"
   ]
  },
  {
   "cell_type": "code",
   "execution_count": 6,
   "id": "b156bb52-fef8-456c-9e4e-e34f652363ae",
   "metadata": {},
   "outputs": [],
   "source": [
    "import matplotlib.pyplot as plt\n",
    "from IPython.display import HTML\n",
    "\n",
    "# function to display figures with formatting and caption\n",
    "def display_figure(fig, fig_id, caption, w=0.6, fs=12):\n",
    "    import io\n",
    "    import base64\n",
    "    plt.rcParams['figure.dpi'] = 300\n",
    "    plt.rcParams['savefig.dpi'] = 300\n",
    "    pic_IObytes = io.BytesIO()\n",
    "    \n",
    "    # set fontsize for title and labels\n",
    "    for ax in fig.axes:\n",
    "        text_items = [ax.title, ax.xaxis.label, ax.yaxis.label]\n",
    "        if ax.get_legend() is not None:\n",
    "            text_items = text_items + ax.get_legend().get_texts()\n",
    "        for item in (text_items + ax.get_xticklabels() + ax.get_yticklabels() ):\n",
    "            item.set_fontsize(fs)\n",
    "            \n",
    "    plt.savefig(pic_IObytes, format='png', bbox_inches='tight')\n",
    "    pic_IObytes.seek(0)\n",
    "    pic_hash = base64.b64encode(pic_IObytes.read())\n",
    "    \n",
    "    img = f'<img margin=\"auto\" width=\"{w*100}%\" src=\"data:image/png;base64, {str(pic_hash)[2:-1]}\" />'\n",
    "    caption = f'<figcaption style=\"text-align: center; font-style: italic;\">{caption}</figcaption>'\n",
    "    display(HTML(f'<br><fig width=\"100%\" id={fig_id}><center>{img}</center> {caption}</fig><br>'))\n",
    "    \n",
    "    plt.close(fig)"
   ]
  },
  {
   "cell_type": "markdown",
   "id": "40471781-fcd7-49d5-9a62-edbfbcf7a492",
   "metadata": {},
   "source": [
    "# Investigating the Cognitive Tests\n",
    "## Introduction\n",
    "\n",
    "Human cognition is a complex and multifaceted ability that encompasses a wide range of cognitive processes, including perception, attention, memory, language, reasoning and problem-solving. These cognitive processes are essential for our ability to learn, adapt and thrive in our environment. \n",
    "\n",
    "Approximate number system (ANS) ([Odic D, Starr A (2018)](#Odic_2018)) is a cognitive ability that allows individuals to approximate or estimate the quantity of a set without relying on counting or language. It is a fundamental aspect of human cognition, playing a crucial role in various domains, including mathematics, spatial reasoning and decision-making. Math ability is a crucial aspect of human cognition, playing a fundamental role in our ability to comprehend and manipulate numerical concepts. It underpins various essential skills, including counting, arithmetic and problem-solving. Memory is the ability to encode, store and retrieve information from our minds. It is a crucial cognitive ability that allows us to learn, remember past events, and make decisions. Lastly, spatial recognition is the ability to mentally manipulate and transform objects in a three-dimensional space. It is essential for a variety of tasks, including navigation and problem-solving. \n",
    "\n",
    "In this study, we aim to further investigate the relationship between ANS and other cognitive abilities, specifically exploring its association with maths ability, spatial recognition, and memory. Additionally, we aim to examine whether there exists a significant difference in the scores of males and females across these cognitive tests. \n",
    "\n",
    "### Hypotheses \n",
    "\n",
    "Based on the available literature and our understanding of the cognitive tests, we propose the following hypotheses: \n",
    "\n",
    "**A) Is ANS related to maths, spatial reasoning or memory skills?**\n",
    "We hypothesise that ANS may be positively correlated with maths performance([Justin Halberda et al. (2015)](#Justin_2015)), suggesting that individuals with better ANS may exhibit superior mathematical abilities\n",
    "We also hypothesise that ANS may be positively correlated with spatial reasoning, indicating that individuals with enhanced ANS may demonstrate better spatial problem-solving skills. \n",
    "However, we think that the association between ANS and memory skills may be weaker, with ANS having a less direct role in memory processes. \n",
    "\n",
    "**B) Can we detect any significant difference between the scores of males and females across our cognitive tests?**\n",
    "Based on previous studies, we hypothesise that there may be a modest gender difference in maths and memory ([Upadhayay N, Guragain S (2014)](#Guragain_2014)), with males generally scoring higher than females. However, we anticipate that no significant difference in gender will be observed in spatial reasoning performance. "
   ]
  },
  {
   "cell_type": "markdown",
   "id": "a860cbda-3350-4030-9ffa-1517b9f4cd11",
   "metadata": {},
   "source": [
    "## Methods \n",
    "\n",
    "This study was conducted within BIOS0030 23/24 class and the participants were all second year undergraduates from the Division of Biosciences at UCL. Ages of these participants ranged from 19 to 21 years old. The number of participants in each of these tests may vary upon individual preferences, with them having the autonomy to decide whether they wish to complete the tasks assigned by our professor. Prior to data upload to the Google Form for further analysis, a data disclaimer question sought permission from participants\n",
    "\n",
    "Questions which involve increasing complexity were designed for each test – ANS, Maths Ability, Memory Test and Spatial Reasoning – to observe the performances of the participants as the difficulty of the task progressed. This approach aimed to provide information about their peak performance and the point at which cognitive abilities might start to decline or plateau. For instance, the complexity of maths questions increases as the user advances through the test, incorporating larger numbers and introducing multiplication and division in the calculations. The time taken to solve one problem is recorded to determine how long the user takes to process the transition from easy to medium to difficult problems.\n",
    "\n",
    "The code for all four tests were first written in JupyterLab then uploaded onto GitHub for collaboration purposes among the group members. The test files were then uploaded onto JupyterLab so that it can be accessed and run by every student in the class. Scores and time taken to conduct each test were recorded and stored in Google form. \n",
    "\n",
    "Statistical evaluation based on the test results, was performed by importing pandas, numpy, matplotlib and scipy.stats modules to Jupyterhub to allow plotting box plots, dot plots, histograms and scatter plots as well as calculating p-value for our test results. \n",
    "\n",
    "## Results "
   ]
  },
  {
   "cell_type": "markdown",
   "id": "3717741a-b95f-4508-9776-2bc29d653a02",
   "metadata": {
    "jp-MarkdownHeadingCollapsed": true
   },
   "source": [
    "## Discussion\n",
    "From the data collected, comparison could be made between ANS and the other cognitive tests to investigate whether there are any relations between them. From previous studies, it was shown that ANS correlates with mathematical ability. Children with a good number representation are better mathematically. There are also studies done where spatial factors could influence a person’s numerosity perception([Marco Ziegler et al. (2023)](#Ziegler_2023)). Although a positive correlation can be seen from our results, the p-value for both ANS vs maths test and ANS vs spatial recognition test were found to be 0.223 and 0.237, respectively. ANS and memory was found to have the weakest correlation with a value of 0.258 and a p-value of 0.370. This means that, in our study, there are no significant relationship found between these tests hence there is not enough evidence to accept the hypothesis that they are related. These values could be attributed to the fact that there is only a small amount of data collected so it is not representative towards the general population. \n",
    "\n",
    "The second hypothesis that was investigated was whether there are any significant difference in scores between male and female across the cognitive tests. From the dot plots, mean score for the memory test is higher in females than male. Interestingly, it is reversed for spatial recognition and maths test. However, the mean score for ANS test are similar between the two groups. From the results, t-test was done to obtain the p-value for each tests to compare between the two groups and it was found that there are no significant difference between them across our cognitive tests. This coincides with previous researches where there are no huge difference between the groups in cognitive ability. \n"
   ]
  },
  {
   "cell_type": "markdown",
   "id": "f7929e9c-d2a8-415a-8df9-a7a3af239c8c",
   "metadata": {
    "jp-MarkdownHeadingCollapsed": true
   },
   "source": [
    "## Bibliography\n",
    "\n",
    "<a name=\"Justin_2015\" href=\"https://www.sciencedirect.com/topics/psychology/approximate-number-system#:~:text=The%20approximate%20number%20system%20(ANS,speaking%20at%20the%20dinner%20table).\">\n",
    "Justin Halberda, Darko Odic (2015)</a>\n",
    "Chapter 12 - The Precision and Internal Confidence of Our Approximate Number Thoughts.\n",
    "Volume 1, 2015, Pages 305-333\n",
    "<br>\n",
    "\n",
    "<a name=\"Odic_2018\" href=\"https://www.ncbi.nlm.nih.gov/pmc/articles/PMC6286047/\">\n",
    "Odic D, Starr A (2018)</a>\n",
    "An Introduction to the Approximate Number System. \n",
    "Child Dev Perspect. 2018 Dec;12(4):223-229.\n",
    "<br>\n",
    "\n",
    "<a name=\"Guragain_2014\" href=\"https://www.ncbi.nlm.nih.gov/pmc/articles/PMC4129348/\">\n",
    "Upadhayay N, Guragain S (2014)</a>\n",
    "Comparison of cognitive functions between male and female medical students: a pilot study. \n",
    "J Clin Diagn Res. 2014 Jun;8(6):BC12-5. \n",
    "<br>\n",
    "\n",
    "<a name=\"Ziegler_2023\" href=\"https://link.springer.com/article/10.3758/s13414-023-02658-9\">\n",
    "Ziegler, M.C., Stricker, L.K. & Drewing, K. (2023)</a>\n",
    "The role of spatial information in an approximate cross-modal number matching task. \n",
    "Atten Percept Psychophys 85, 1253–1266 (2023).\n",
    "<br>\n"
   ]
  }
 ],
 "metadata": {
  "kernelspec": {
   "display_name": "Python 3 (ipykernel)",
   "language": "python",
   "name": "python3"
  },
  "language_info": {
   "codemirror_mode": {
    "name": "ipython",
    "version": 3
   },
   "file_extension": ".py",
   "mimetype": "text/x-python",
   "name": "python",
   "nbconvert_exporter": "python",
   "pygments_lexer": "ipython3",
   "version": "3.10.10"
  }
 },
 "nbformat": 4,
 "nbformat_minor": 5
}
